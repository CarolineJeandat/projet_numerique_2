{
 "cells": [
  {
   "cell_type": "code",
   "execution_count": null,
   "metadata": {},
   "outputs": [],
   "source": [
    "import numpy as np\n",
    "import matplotlib.pyplot as plt\n",
    "from numpy import log\n",
    "import autograd\n",
    "\n",
    "from IPython.display import display\n",
    "from pylab import *\n",
    "from mpl_toolkits.mplot3d import Axes3D"
   ]
  },
  {
   "cell_type": "code",
   "execution_count": null,
   "metadata": {},
   "outputs": [],
   "source": [
    "def display_contour(f, x, y, levels):\n",
    "    X, Y = np.meshgrid(x, y)\n",
    "    Z = f(X, Y)\n",
    "    fig, ax = plt.subplots()\n",
    "    contour_set = plt.contour(\n",
    "        X, Y, Z, colors=\"grey\", linestyles=\"dashed\", \n",
    "        levels=levels \n",
    "    )\n",
    "    ax.clabel(contour_set)\n",
    "    plt.grid(True)\n",
    "    plt.xlabel(\"$x_1$\") \n",
    "    plt.ylabel(\"$x_2$\")\n",
    "    plt.gca().set_aspect(\"equal\")"
   ]
  },
  {
   "cell_type": "code",
   "execution_count": null,
   "metadata": {},
   "outputs": [
    {
     "data": {
      "text/plain": [
       "0.6666666666666666"
      ]
     },
     "execution_count": 114,
     "metadata": {},
     "output_type": "execute_result"
    }
   ],
   "source": [
    "alpha = 2/3\n",
    "beta = 4/3\n",
    "gamma = 1.0\n",
    "delta = 2.0"
   ]
  },
  {
   "cell_type": "markdown",
   "metadata": {},
   "source": [
    "$$ \\left\\{\n",
    "    \\begin{array}{ll}\n",
    "        \\frac{dx_1}{dt} = x_1.(\\alpha − \\beta.x_2) \\\\\n",
    "        \\frac{dx_2}{dt} = -x_2.(\\gamma - \\delta.x_1) \n",
    "    \\end{array}\n",
    "    \\right. $$\n",
    "    \n",
    "$$ dx_1 = x_1(t+dt) - x_1(t) $$\n",
    "$$ dx_2 = x_2(t+dt) - x_2(t) $$"
   ]
  },
  {
   "cell_type": "code",
   "execution_count": null,
   "metadata": {},
   "outputs": [],
   "source": [
    "xmax = 1\n",
    "ymax = 1\n",
    "dx = 0.1\n",
    "dy = 0.1\n",
    "Nx = int(xmax/dx)+1\n",
    "Ny = int(ymax/dy)+1\n",
    "\n",
    "dt = dx"
   ]
  },
  {
   "cell_type": "markdown",
   "metadata": {},
   "source": [
    "#### Question 1"
   ]
  },
  {
   "cell_type": "markdown",
   "metadata": {},
   "source": [
    "Interprétation des termes des équations :\n",
    "- $\\alpha$ : coefficient de reproduction des proies\n",
    "- $\\beta$ : taux de mortalité des proies, à cause des prédateurs\n",
    "- $\\gamma$ : mortalité des prédateurs en l'absence de proies\n",
    "- $\\delta$ : coefficient de reproduction des prédateurs grâce à la présence de proies"
   ]
  },
  {
   "cell_type": "markdown",
   "metadata": {},
   "source": [
    "Les points d'équilibre vérifient :\n",
    "$$ \\left\\{\n",
    "    \\begin{array}{ll}\n",
    "        x_1.(\\alpha − \\beta.x_2) = 0 \\\\\n",
    "        -x_2.(\\gamma - \\delta.x_1) = 0 \n",
    "    \\end{array}\n",
    "    \\right. $$\n",
    "\n",
    "\n",
    "\n",
    "Les points d'équilibre sont donc :\n",
    "- $(0,0)$ qui est instable. En effet, on étudie la fonction $f : (x_1,x_2) \\mapsto (x_1.(\\alpha - \\beta .x_2), -x_2.(\\gamma - \\delta . x_1))$ qui est continûment différentiable (par théorèmes généraux). Sa matrice jacobienne en $(0,0)$ est \n",
    "\n",
    "$$J_f(0,0) = \n",
    " \\begin{pmatrix}\n",
    "     \\alpha & 0 \\newline\n",
    "     0 & -\\delta\n",
    "  \\end{pmatrix} \n",
    "$$ \n",
    "\n",
    "dont les valeurs propres sont $\\alpha > 0$ et $-\\delta < 0$. $(0,0)$ est donc instable par théorème de lien entre stabilité et stabilité du linéarisé tangent.\n",
    "- $\\overline{x} = (\\frac{\\gamma}{\\delta}, \\frac{\\alpha}{\\beta})$ dont on ne peut pour l'instant rien dire avec le théorème ci-dessus. En effet, avec la même fonction $f$ : \n",
    "\n",
    "$$J_f(\\frac{\\gamma}{\\delta}, \\frac{\\alpha}{\\beta}) = \n",
    " \\begin{pmatrix}\n",
    "     0 & -\\frac{\\beta\\gamma}{\\delta} \\newline\n",
    "     \\frac{\\alpha\\delta}{\\beta} & 0\n",
    "  \\end{pmatrix} \n",
    "$$\n",
    "\n",
    "dont les valeurs propres sont des imaginaires purs : $+i\\sqrt{\\alpha\\gamma}$ et $-i\\sqrt{\\alpha\\gamma}$."
   ]
  },
  {
   "cell_type": "markdown",
   "metadata": {},
   "source": [
    "#### Question 2"
   ]
  },
  {
   "cell_type": "code",
   "execution_count": null,
   "metadata": {},
   "outputs": [],
   "source": [
    "X = np.linspace(0, xmax, Nx)\n",
    "Y = np.linspace(0, ymax, Ny)\n",
    "X, Y = np.meshgrid(X, Y)\n",
    "U = (alpha-beta*Y)*X\n",
    "V = (delta*X-gamma)*Y"
   ]
  },
  {
   "cell_type": "code",
   "execution_count": null,
   "metadata": {},
   "outputs": [],
   "source": [
    "# champ de vecteur\n",
    "plt.quiver(X,Y,U,V);"
   ]
  },
  {
   "cell_type": "code",
   "execution_count": null,
   "metadata": {},
   "outputs": [],
   "source": [
    "# portrait de phase\n",
    "plt.streamplot(X,Y,U,V);"
   ]
  },
  {
   "cell_type": "markdown",
   "metadata": {},
   "source": [
    "#### Question 3"
   ]
  },
  {
   "cell_type": "markdown",
   "metadata": {},
   "source": [
    "Soit $(x_1,x_2)$ une solution des équations de Lotka-Vloterra, initialisée à $t_0$ dans $\\mathbb{R}_+^* \\times \\mathbb{R}_+^*$. On montre que sur son ensemble de définition, cette solution reste dans $\\mathbb{R}_+^* \\times \\mathbb{R}_+^*$.\n",
    "\n",
    "Par l'absurde, supposons qu'il existe un temps $t' > t_0$ tq $x_1(t') \\leq 0$ ou $x_2(t') \\leq 0$. Par continuité de la solution, et puisque $x_1(t_0) > 0$ et $x_2(t_0) > 0$, il existe $t_1$ tq $x_1(t_1) = 0$ ou $x_2(t_1) = 0$.\n",
    "- si $(x_1(t_1), x_2(t_1)) = (0,y)$, on vérifie que $(t \\mapsto 0, t \\mapsto y.e^{\\gamma(t_1 - t)})$ est solution. De plus, $f : (a,b) \\mapsto (a.(\\alpha - \\beta .b), -b.(\\gamma - \\delta . a))$ est différentiable et  \n",
    "\n",
    "$$J_f(a,b) = \n",
    " \\begin{pmatrix}\n",
    "     \\alpha - \\beta b & -\\beta a \\newline\n",
    "     \\delta b & \\delta a - \\gamma\n",
    "  \\end{pmatrix} \n",
    "$$\n",
    "\n",
    "ce qui assure sa continue différentiabilité par rapport à (a,b). Cette solution est unique par théorème de Cauchy-Lipschitz. On a alors $x_1(t_0) = 0$, ce qui contredit les hypothèses.\n",
    "- de la même manière, si $(x_1(t_1), x_2(t_1)) = (y,0)$, l'unique solution est $(t \\mapsto y.e^{\\gamma(t_1 - t)}, t \\mapsto 0)$, ce qui mène à une contradiction.\n",
    "\n",
    "On a bien montré le résultat."
   ]
  },
  {
   "cell_type": "markdown",
   "metadata": {},
   "source": [
    "#### Question 4"
   ]
  },
  {
   "cell_type": "markdown",
   "metadata": {},
   "source": [
    "On étudie la fonction $H : (x_1,x_2) \\mapsto \\delta x_1 - \\gamma \\ln(x_1) + \\beta x_2 - \\alpha \\ln(x_2)$ le long des solutions\n",
    "initialisées dans $\\mathbb{R}_+^* \\times \\mathbb{R}_+^*$ :\n",
    "\n",
    "$$\\frac{dH}{dt} = \\delta \\frac{dx_1}{dt} - \\frac{\\gamma}{x_1} \\frac{dx_1}{dt} + \\beta \\frac{dx_2}{dt} - \\frac{\\alpha}{x_2} \\frac{dx_2}{dt} = 0$$\n",
    "\n",
    "$H$ est constante, donc la solution $(x_1, x_2)$ est bornée, et est donc définie sur $\\mathbb{R}$."
   ]
  },
  {
   "cell_type": "markdown",
   "metadata": {},
   "source": [
    "#### Question 5"
   ]
  },
  {
   "cell_type": "code",
   "execution_count": null,
   "metadata": {},
   "outputs": [],
   "source": [
    "def H(x1, x2):\n",
    "    return delta*x1 - gamma*log(x1) + beta*x2 - alpha*log(x2)"
   ]
  },
  {
   "cell_type": "code",
   "execution_count": null,
   "metadata": {},
   "outputs": [],
   "source": [
    "display_contour(\n",
    "    H, \n",
    "    x=np.linspace(0.1, xmax, Nx), \n",
    "    y=np.linspace(0.1, ymax, Ny), \n",
    "    levels=10\n",
    ")"
   ]
  },
  {
   "cell_type": "markdown",
   "metadata": {},
   "source": [
    "$\\overline{x}$ est au centre des lignes de niveaux ; c'est un minimum de $H$. Les solutions tournent autour de $\\overline{x}$, sur les courbes de niveaux de $H$.  $\\overline{x}$ est un point d'équilibre stable, puisque toute solution initialisée proche de $\\overline{x}$ suit une courbe de niveau de $H$, et on observe graphiquement que les courbes de niveaux encerclent $\\overline{x}$ sans s'en éloigner (à plus d'un certain epsilon)."
   ]
  },
  {
   "cell_type": "markdown",
   "metadata": {},
   "source": [
    "#### Question 6"
   ]
  },
  {
   "cell_type": "code",
   "execution_count": null,
   "metadata": {},
   "outputs": [],
   "source": [
    "def solve_euler_explicit(f, x0, dt, t0, tf):\n",
    "    N = int((tf-t0)/dt) + 1\n",
    "    t = np.linspace(t0,tf,N)\n",
    "    x = [x0]\n",
    "    for i in range(N-1):\n",
    "        x.append(x[i] + dt*f(t[i],x[i]))\n",
    "    return t, np.array(x)"
   ]
  },
  {
   "cell_type": "code",
   "execution_count": null,
   "metadata": {},
   "source": [
    "On voit çi dessus la convergence du schéma Euler explicite lorsque dt tend vers 0 (les courbes se raprochent de la courbe épaisse rouge qui est la solution analytique).\n",
    "\n",
    "pour visualiser graphiquement l'odre de convergence on peut prendre le logarithme de la différence entre la solution numérique et analytique ainsi :\n",
    "\n",
    "$$ log(\\| x_{j}-x(t_j) \\| ) \\leq log(cste) + ordre * log(dt)$$\n"
   ]
  },
  {
   "cell_type": "code",
   "execution_count": 89,
   "metadata": {
    "tags": [
     "level_advanced"
    ]
   },
   "outputs": [
    {
     "data": {
      "text/plain": [
       "[<matplotlib.lines.Line2D at 0x1e9e97c34f0>]"
      ]
     },
     "execution_count": 89,
     "metadata": {},
     "output_type": "execute_result"
    },
    {
     "data": {
      "image/png": "[encoded data removed]",
      "text/plain": [
       "<Figure size 432x288 with 1 Axes>"
      ]
     },
     "metadata": {
      "needs_background": "light"
     },
     "output_type": "display_data"
    }
   ],
   "source": [
    "DT = []\n",
    "DIFF = []\n",
    "for i in range(2,50):\n",
    "    t, x = solve_euler_explicit(test,0,1/i,0,50)\n",
    "    xr = np.exp(t)\n",
    "    diff = np.abs(xr-x)\n",
    "    DIFF.append(log(max(diff)))\n",
    "    DT.append(log(1/i))\n",
    "    DF.append(2*log(1/i))\n",
    "\n",
    "plt.plot(DIFF,DT)\n",
    "   "
   ]
  },
  {
   "cell_type": "markdown",
   "metadata": {
    "tags": [
     "level_advanced"
    ]
   },
   "source": [
    "le coefficient directeur entier de la droite qui le majore le mieux "
   ]
  },
  {
   "cell_type": "markdown",
   "metadata": {},
   "source": [
    "#### Question 7"
   ]
  },
  {
   "cell_type": "code",
   "execution_count": null,
   "metadata": {},
   "outputs": [],
   "source": [
    "def LotkaVolterra(t,x):\n",
    "    x1 = x[0]\n",
    "    x2 = x[1]\n",
    "    return np.array([x1*(alpha-beta*x2) , -x2*(gamma-delta*x1)])"
   ]
  },
  {
   "cell_type": "code",
   "execution_count": null,
   "metadata": {},
   "outputs": [],
   "source": [
    "t,x = solve_euler_explicit(LotkaVolterra,np.array([1,1]),0.01,0,500)"
   ]
  },
  {
   "cell_type": "code",
   "execution_count": null,
   "metadata": {},
   "outputs": [],
   "source": [
    "plt.plot(t,x);"
   ]
  },
  {
   "cell_type": "markdown",
   "metadata": {},
   "source": [
    "En temps long, on observe que la solution obtenue avec la méthode d'Euler explicite diverge. Cette résolution ne correspond pas à la réalité, puisqu'on a montré en question 4 que les solutions n'explosaient pas en temps fini."
   ]
  },
  {
   "cell_type": "code",
   "execution_count": null,
   "metadata": {},
   "outputs": [],
   "source": [
    "N = x.shape[0]\n",
    "proies = np.array([x[i][0] for i in range(N)])\n",
    "pred = np.array([x[i][1] for i in range(N)])"
   ]
  },
  {
   "cell_type": "code",
   "execution_count": null,
   "metadata": {},
   "outputs": [],
   "source": [
    "h = H(proies, pred)\n",
    "plt.plot(t,h);"
   ]
  },
  {
   "cell_type": "markdown",
   "metadata": {},
   "source": [
    "La fonction $H$ le long de la solution obtenue grâce à Euler explicite n'est pas constante dans le temps, alors qu'elle l'est le long d'une solution exacte. La méthode d'Euler explicite diverge en temps fini."
   ]
  },
  {
   "cell_type": "markdown",
   "metadata": {},
   "source": [
    "#### Question 8"
   ]
  },
  {
   "cell_type": "code",
   "execution_count": null,
   "metadata": {},
   "outputs": [],
   "source": [
    "def grad(f):\n",
    "    g = autograd.grad\n",
    "    def grad_f(x, y):\n",
    "        return np.array([g(f, 0)(x, y), g(f, 1)(x, y)])\n",
    "    return grad_f"
   ]
  },
  {
   "cell_type": "code",
   "execution_count": null,
   "metadata": {},
   "outputs": [],
   "source": [
    "def J(f):\n",
    "    j = autograd.jacobian\n",
    "    def J_f(x, y):\n",
    "        return np.array([j(f, 0)(x, y), j(f, 1)(x, y)]).T\n",
    "    return J_f"
   ]
  },
  {
   "cell_type": "code",
   "execution_count": null,
   "metadata": {},
   "outputs": [],
   "source": [
    "def Newton(f, x0, dt, t1, itermax, eps=10^(-5)):\n",
    "    \n",
    "    def solve_x_suiv(y):\n",
    "        return y - x0 + dt*f(t1,y)\n",
    "    \n",
    "    for i in range(itermax):\n",
    "        v = x0 - np.dot(np.linalg.inv(J(solve_x_suiv)(x0[0], x0[1])),solve_x_suiv(x0[0], x0[1]))\n",
    "        x = v[0]\n",
    "        y = v[1]\n",
    "        if np.sqrt( (x - x0[0])**2 + (y - x0[1])**2 ) <= eps:\n",
    "            return x, y\n",
    "        x0 = np.array([x, y])\n",
    "    else:\n",
    "        raise ValueError(f\"no convergence in {N} steps.\")"
   ]
  },
  {
   "cell_type": "code",
   "execution_count": null,
   "metadata": {},
   "outputs": [],
   "source": [
    "def solve_euler_implicit(f, x0, dt, t0, tf, itermax=100):\n",
    "    N = int((tf-t0)/dt) + 1\n",
    "    t = np.linspace(t0,tf,N)\n",
    "    x = [x0]\n",
    "    \n",
    "    for i in range(N-1):\n",
    "        x_suivant = Newton(f, x[i], dt, t[i+1], itermax)\n",
    "        x.append(x[i] + dt*x_suivant)\n",
    "    return t, x"
   ]
  },
  {
   "cell_type": "code",
   "execution_count": null,
   "metadata": {},
   "outputs": [],
   "source": [
    "t,x = solve_euler_implicit(LotkaVolterra,np.array([1,1]),0.01,0,500)"
   ]
  },
  {
   "cell_type": "markdown",
   "metadata": {},
   "source": [
    "#### Question 9"
   ]
  },
  {
   "cell_type": "markdown",
   "metadata": {},
   "source": [
    "On étudie les équations suivantes :\n",
    "\n",
    "$$ \\left\\{\n",
    "    \\begin{array}{ll}\n",
    "        \\frac{dx_1}{dt} = x_1.(\\alpha − \\beta.x_2) - u_1(x_1,x_2).(H(x_1,x_2) - H_0) \\\\\n",
    "        \\frac{dx_2}{dt} = -x_2.(\\gamma - \\delta.x_1) - u_2(x_1,x_2).(H(x_1,x_2) - H_0)\n",
    "    \\end{array}\n",
    "    \\right. $$\n",
    "    \n",
    "où $H_0 = H(x_1(0),x_2(0))$ et $u : \\mathbb{R}^2 \\mapsto \\mathbb{R}^2$ est continûment différentiable.\n",
    "\n",
    "Si $(x_1, x_2)$ est solution des équations de Lotka-Volterra, alors $H$ est constante le long de $(x_1(t), x_2(t))$, et donc $\\forall t, H(x_1(t),x_2(t)) - H_0 = 0$. $(x_1,x_2)$ est alors aussi solution des équations ci-dessus."
   ]
  },
  {
   "cell_type": "markdown",
   "metadata": {},
   "source": [
    "#### Question 10"
   ]
  },
  {
   "cell_type": "markdown",
   "metadata": {},
   "source": [
    "Pour $(x_1,x_2)$ solution du système, $u$ continûment différentiable : \n",
    "\n",
    "$\\frac{d}{dt}(H(x(t)) - H_0) = \\delta \\frac{dx_1}{dt} - \\frac{\\gamma}{x_1} \\frac{dx_1}{dt} + \\beta \\frac{dx_2}{dt} - \\frac{\\alpha}{x_2} \\frac{dx_2}{dt}$\n",
    "$$= -(H(x_1,x_2) - H_0).((\\delta - \\frac{\\gamma}{x_1}).u_1(x_1,x_2) + (\\beta - \\frac{\\alpha}{x_2}).u_2(x_1,x_2))$$"
   ]
  },
  {
   "cell_type": "markdown",
   "metadata": {},
   "source": [
    "Or on a $\\nabla H(x(t)) = (\\delta - \\frac{\\gamma}{x_1}, \\beta - \\frac{\\alpha}{x_2})$.\n",
    "\n",
    "En choisissant $u:(x_1,x_2) \\mapsto k.(\\delta - \\frac{\\gamma}{x_1}, \\beta - \\frac{\\alpha}{x_2})$, on a alors : \n",
    "\n",
    "$$\\frac{d}{dt}(H(x(t)) - H_0) = -k\\|\\nabla H(x(t))\\|^2.(H(x(t))-H_0)$$"
   ]
  },
  {
   "cell_type": "markdown",
   "metadata": {},
   "source": [
    "Supposons que $x$ reste à une distance strictement positive de $\\overline{x}$. Ainsi, $\\exists c > 0$ tq $\\forall t$, $\\|x(t) - \\overline{x}\\| \\geq c$. "
   ]
  },
  {
   "cell_type": "markdown",
   "metadata": {},
   "source": []
  }
 ],
 "metadata": {
  "kernelspec": {
   "display_name": "Python 3",
   "language": "python",
   "name": "python3"
  },
  "language_info": {
   "codemirror_mode": {
    "name": "ipython",
    "version": 3
   },
   "file_extension": ".py",
   "mimetype": "text/x-python",
   "name": "python",
   "nbconvert_exporter": "python",
   "pygments_lexer": "ipython3",
   "version": "3.8.3"
  }
 },
 "nbformat": 4,
 "nbformat_minor": 4
}
